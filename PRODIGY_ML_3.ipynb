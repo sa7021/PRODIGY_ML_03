{
 "cells": [
  {
   "cell_type": "code",
   "execution_count": null,
   "id": "374640c0-31bc-423b-a9f4-3bd48f4efdf0",
   "metadata": {},
   "outputs": [],
   "source": [
    "!pip install numpy pillow scikit-learn\n",
    "import os\n",
    "import numpy as np\n",
    "from PIL import Image\n",
    "from sklearn.model_selection import train_test_split\n",
    "from sklearn.svm import SVC\n",
    "from sklearn.metrics import accuracy_score\n",
    "\n",
    "# Path to the dataset\n",
    "dataset_path = r'C:\\Users\\apput\\Downloads\\dogs-vs-cats-redux-kernels-edition\\train\\train'\n",
    "\n",
    "# Load and preprocess images\n",
    "def load_images(dataset_path, image_size=(64, 64)):\n",
    "    images = []\n",
    "    labels = []\n",
    "    \n",
    "    for filename in os.listdir(dataset_path):\n",
    "        label = 0 if 'cat' in filename else 1  # 'cat' = 0, 'dog' = 1\n",
    "        file_path = os.path.join(dataset_path, filename)\n",
    "        \n",
    "        try:\n",
    "            # Open image, resize, and convert to numpy array\n",
    "            img = Image.open(file_path).resize(image_size)\n",
    "            img_array = np.array(img)\n",
    "            images.append(img_array)\n",
    "            labels.append(label)\n",
    "        except Exception as e:\n",
    "            print(f\"Error loading image {file_path}: {e}\")\n",
    "    \n",
    "    return np.array(images), np.array(labels)\n",
    "\n",
    "# Load images and labels\n",
    "X, y = load_images(dataset_path)\n",
    "\n",
    "# Normalize image data\n",
    "X = X / 255.0  # Scale pixel values between 0 and 1\n",
    "\n",
    "# Flatten images for SVM\n",
    "X = X.reshape(X.shape[0], -1)  # Convert 2D images to 1D\n",
    "\n",
    "# Split data into training and testing sets\n",
    "X_train, X_test, y_train, y_test = train_test_split(X, y, test_size=0.2, random_state=42)\n",
    "\n",
    "# Train the SVM classifier\n",
    "svm = SVC(kernel='linear')\n",
    "svm.fit(X_train, y_train)\n",
    "\n",
    "# Evaluate the classifier\n",
    "y_pred = svm.predict(X_test)\n",
    "accuracy = accuracy_score(y_test, y_pred)\n",
    "print(f'Accuracy: {accuracy * 100:.2f}%')\n",
    "\n"
   ]
  },
  {
   "cell_type": "code",
   "execution_count": null,
   "id": "485b06e0-999c-4b9d-981f-c132f3d7abad",
   "metadata": {},
   "outputs": [],
   "source": []
  }
 ],
 "metadata": {
  "kernelspec": {
   "display_name": "Python 3 (ipykernel)",
   "language": "python",
   "name": "python3"
  },
  "language_info": {
   "codemirror_mode": {
    "name": "ipython",
    "version": 3
   },
   "file_extension": ".py",
   "mimetype": "text/x-python",
   "name": "python",
   "nbconvert_exporter": "python",
   "pygments_lexer": "ipython3",
   "version": "3.12.4"
  }
 },
 "nbformat": 4,
 "nbformat_minor": 5
}
